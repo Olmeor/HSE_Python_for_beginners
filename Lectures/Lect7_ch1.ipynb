{
 "cells": [
  {
   "cell_type": "markdown",
   "id": "7e7ce1af",
   "metadata": {},
   "source": [
    "# Занятие 7. Часть 1."
   ]
  },
  {
   "cell_type": "markdown",
   "id": "677d00cc",
   "metadata": {},
   "source": [
    "# Цикл For"
   ]
  },
  {
   "cell_type": "markdown",
   "id": "fc5471be",
   "metadata": {},
   "source": [
    "### Важный помощник - функция range()"
   ]
  },
  {
   "cell_type": "markdown",
   "id": "af3704dc",
   "metadata": {},
   "source": [
    "* range(стоп) берет один аргумент\n",
    "* range(старт, стоп) берет два аргумента\n",
    "* range(старт, стоп, шаг) берет три аргумента"
   ]
  },
  {
   "cell_type": "markdown",
   "id": "febf9213",
   "metadata": {},
   "source": [
    "#### Примеры:"
   ]
  },
  {
   "cell_type": "code",
   "execution_count": 18,
   "id": "5f7b6f14",
   "metadata": {},
   "outputs": [
    {
     "data": {
      "text/plain": [
       "range(0, 3)"
      ]
     },
     "execution_count": 18,
     "metadata": {},
     "output_type": "execute_result"
    }
   ],
   "source": [
    "range(3)"
   ]
  },
  {
   "cell_type": "code",
   "execution_count": 19,
   "id": "43a3dd75",
   "metadata": {},
   "outputs": [
    {
     "data": {
      "text/plain": [
       "[0, 1, 2]"
      ]
     },
     "execution_count": 19,
     "metadata": {},
     "output_type": "execute_result"
    }
   ],
   "source": [
    "list(range(3))"
   ]
  },
  {
   "cell_type": "code",
   "execution_count": 20,
   "id": "11570586",
   "metadata": {},
   "outputs": [
    {
     "data": {
      "text/plain": [
       "range(1, 6)"
      ]
     },
     "execution_count": 20,
     "metadata": {},
     "output_type": "execute_result"
    }
   ],
   "source": [
    "range(1,6)"
   ]
  },
  {
   "cell_type": "code",
   "execution_count": 21,
   "id": "42bcdc08",
   "metadata": {},
   "outputs": [
    {
     "data": {
      "text/plain": [
       "[1, 2, 3, 4, 5]"
      ]
     },
     "execution_count": 21,
     "metadata": {},
     "output_type": "execute_result"
    }
   ],
   "source": [
    "list(range(1,6))"
   ]
  },
  {
   "cell_type": "code",
   "execution_count": 22,
   "id": "4fa48caf",
   "metadata": {},
   "outputs": [
    {
     "data": {
      "text/plain": [
       "[1, 4, 7, 10, 13, 16, 19]"
      ]
     },
     "execution_count": 22,
     "metadata": {},
     "output_type": "execute_result"
    }
   ],
   "source": [
    "list(range(1,20,3))"
   ]
  },
  {
   "cell_type": "markdown",
   "id": "f40ae430",
   "metadata": {},
   "source": [
    "##     Цикл For"
   ]
  },
  {
   "cell_type": "markdown",
   "id": "264b30f1",
   "metadata": {},
   "source": [
    "В цикле **for** действие выполняется для всех элементов какой-то последовательности: они перебираются по очереди, и с каждым производится действие."
   ]
  },
  {
   "cell_type": "markdown",
   "id": "90eeb550",
   "metadata": {},
   "source": [
    "### Пример 1"
   ]
  },
  {
   "cell_type": "code",
   "execution_count": 23,
   "id": "8f4c9f0d",
   "metadata": {},
   "outputs": [
    {
     "name": "stdout",
     "output_type": "stream",
     "text": [
      "apple +\n",
      "cola +\n",
      "milk +\n",
      "bread +\n",
      "towel +\n"
     ]
    }
   ],
   "source": [
    "shoplist = ['apple', 'cola', 'milk', 'bread', 'towel']\n",
    "for item in shoplist:\n",
    "    print(item,'+')"
   ]
  },
  {
   "cell_type": "code",
   "execution_count": null,
   "id": "a5d4d053",
   "metadata": {},
   "outputs": [],
   "source": []
  },
  {
   "cell_type": "markdown",
   "id": "1dc87ad9",
   "metadata": {},
   "source": [
    "### Задача 1"
   ]
  },
  {
   "cell_type": "markdown",
   "id": "394b2404",
   "metadata": {},
   "source": [
    "Даны два целых числа A и B (при этом A ≤ B). Выведите все числа от A до B включительно."
   ]
  },
  {
   "cell_type": "code",
   "execution_count": 26,
   "id": "542c6049",
   "metadata": {},
   "outputs": [
    {
     "name": "stdout",
     "output_type": "stream",
     "text": [
      "4\n",
      "7\n",
      "4\n",
      "5\n",
      "6\n",
      "7\n"
     ]
    }
   ],
   "source": [
    "a = int(input())\n",
    "b = int(input())\n",
    "for python in range(a,b+1):\n",
    "    print(python)"
   ]
  },
  {
   "cell_type": "markdown",
   "id": "7ff6a944",
   "metadata": {},
   "source": [
    "### Задача 2"
   ]
  },
  {
   "cell_type": "markdown",
   "id": "311ac9e1",
   "metadata": {},
   "source": [
    "Дано 10 целых чисел. Вычислите их сумму. "
   ]
  },
  {
   "cell_type": "code",
   "execution_count": 31,
   "id": "5fc4992d",
   "metadata": {},
   "outputs": [
    {
     "name": "stdout",
     "output_type": "stream",
     "text": [
      "3 4 5\n",
      "['3', '4', '5']\n",
      "12\n",
      "3\n"
     ]
    }
   ],
   "source": [
    "spisok = input().split()\n",
    "print(spisok)\n",
    "summ = 0\n",
    "count = 0\n",
    "for i in spisok:\n",
    "    summ += int(i)\n",
    "    count += 1\n",
    "print(summ)\n",
    "print(count)"
   ]
  },
  {
   "cell_type": "markdown",
   "id": "d65e4ed8",
   "metadata": {},
   "source": [
    "### Задача 3"
   ]
  },
  {
   "cell_type": "markdown",
   "id": "1070bd35",
   "metadata": {},
   "source": [
    "Дан список lst = [11, 5, 8, 32, 15, 3, 20, 132, 21, 4, 555, 9, 20]. \n",
    "Необходимо вывести элементы, которые одновременно 1) меньше 30 и 2) делятся на 3 без остатка. Все остальные элементы списка необходимо просуммировать и вывести конечный результат."
   ]
  },
  {
   "cell_type": "code",
   "execution_count": 33,
   "id": "40ca44b0",
   "metadata": {},
   "outputs": [
    {
     "name": "stdout",
     "output_type": "stream",
     "text": [
      "15\n",
      "3\n",
      "21\n",
      "9\n",
      "787\n",
      "[15, 3, 21, 9]\n"
     ]
    }
   ],
   "source": [
    "lst = [11, 5, 8, 32, 15, 3, 20, 132, 21, 4, 555, 9, 20]\n",
    "summ = 0\n",
    "spisok = []\n",
    "for i in lst:\n",
    "    if i < 30 and i%3 == 0:\n",
    "        print(i)\n",
    "        spisok.append(i)\n",
    "    else:\n",
    "        summ+=i\n",
    "print(summ)\n",
    "print(spisok)"
   ]
  },
  {
   "cell_type": "markdown",
   "id": "1f8de08c",
   "metadata": {},
   "source": [
    "### Задача 4"
   ]
  },
  {
   "cell_type": "markdown",
   "id": "bcfa4a6a",
   "metadata": {},
   "source": [
    "Согласно политике безопасности банка, пароль не может содержать года рождения клиента — иначе вероятность подобрать пароль увеличивается. Напишите программу, которая будет проводить такую проверку. \n",
    "\n",
    "ФОРМАТ ВВОДА \n",
    "\n",
    "На первой строке — полный год рождения клиента (то есть 4 символа, например, «1968»). \n",
    "На второй строке — три варианта пароля, придуманных клиентом, записанных через пробел. \n",
    "\n",
    "ФОРМАТ ВЫВОДА \n",
    "\n",
    "True, если в пароле есть подстрока с годом рождения, и False, если нет. \n",
    "Ответ по каждому варианту пароля нужно выводить с новой строки."
   ]
  },
  {
   "cell_type": "code",
   "execution_count": null,
   "id": "2335ec45",
   "metadata": {},
   "outputs": [],
   "source": []
  },
  {
   "cell_type": "markdown",
   "id": "1e724579",
   "metadata": {},
   "source": [
    "### Задача 5"
   ]
  },
  {
   "cell_type": "markdown",
   "id": "34f14810",
   "metadata": {},
   "source": [
    "Саша всю ночь готовится к игре в города, выписывая все встречающиеся в интернете названия городов. Напишите программу, которая принимает на вход строку с названиями городов, затем одну заглавную букву, и выводит все города из строки, которые на нее начинаются. \n",
    "\n",
    "ФОРМАТ ВВОДА\n",
    "\n",
    "Строка, которая содержит названия городов, разделенные запятой и пробелом. \n",
    "Заглавная буква.  \n",
    "\n",
    "ФОРМАТ ВЫВОДА \n",
    "\n",
    "Города из введенной строки, начинающиеся на заданную заглавную букву, каждое название города на новой строке"
   ]
  },
  {
   "cell_type": "code",
   "execution_count": null,
   "id": "1abeae58",
   "metadata": {},
   "outputs": [],
   "source": []
  },
  {
   "cell_type": "markdown",
   "id": "bfc77012",
   "metadata": {},
   "source": [
    "### Задача 6"
   ]
  },
  {
   "cell_type": "markdown",
   "id": "6ef27c85",
   "metadata": {},
   "source": [
    "Учитель составляет диктант, который должен проверять, как хорошо ученики усвоили новое правило правописания. Напишите программу, которая будет проверять, сколько слов на заданное правило в диктанте. \n",
    "\n",
    "ФОРМАТ ВВОДА \n",
    "\n",
    "На первой строке — буквосочетания, которые должны встречаться в словах диктанта, разделённые пробелом. \n",
    "На второй — текст диктанта: все предложения набраны строчными буквами, без заглавных. \n",
    "Гарантируется, что каждое слово не содержит двух или более различных проверяемых буквосочетаний. \n",
    "\n",
    "ФОРМАТ ВЫВОДА \n",
    "\n",
    "Одно число — сколько слов в тексте диктанта содержат нужные буквосочетания."
   ]
  },
  {
   "cell_type": "code",
   "execution_count": null,
   "id": "5abaaca7",
   "metadata": {},
   "outputs": [],
   "source": []
  }
 ],
 "metadata": {
  "kernelspec": {
   "display_name": "Python 3 (ipykernel)",
   "language": "python",
   "name": "python3"
  },
  "language_info": {
   "codemirror_mode": {
    "name": "ipython",
    "version": 3
   },
   "file_extension": ".py",
   "mimetype": "text/x-python",
   "name": "python",
   "nbconvert_exporter": "python",
   "pygments_lexer": "ipython3",
   "version": "3.9.13"
  }
 },
 "nbformat": 4,
 "nbformat_minor": 5
}
