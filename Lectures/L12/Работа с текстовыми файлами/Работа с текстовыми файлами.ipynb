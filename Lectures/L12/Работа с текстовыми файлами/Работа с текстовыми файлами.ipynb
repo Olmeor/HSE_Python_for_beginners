{
 "cells": [
  {
   "cell_type": "markdown",
   "metadata": {
    "collapsed": true,
    "id": "3WtJdB9FY-OI"
   },
   "source": [
    "# Работа с текстовыми файлами"
   ]
  },
  {
   "cell_type": "markdown",
   "metadata": {
    "id": "pTU2R5S-Y-OL"
   },
   "source": [
    "Проведем простой анализ повести А. С. Пушкина \"Капитанская дочка\": посчитаем количество употреблений каждого слова и найдем самые популярные, то есть наиболее часто встречаемые слова.\n",
    "\n",
    "План действий:\n",
    "1. чтение текста из файла;\n",
    "1. составление словаря слов;\n",
    "1. сортировка словаря слов;\n",
    "1. удаление стоп-слов;\n",
    "1. сохранение результатов в файл."
   ]
  },
  {
   "cell_type": "markdown",
   "metadata": {
    "id": "u1SZyzPqY-OL"
   },
   "source": [
    "## 1. Чтение из txt-файла и подготовка к составлению словаря слов\n",
    "Считываем текст из файла в одну строковую переменную, удаляя пробельные символы по краям строки."
   ]
  },
  {
   "cell_type": "code",
   "execution_count": null,
   "metadata": {
    "id": "55eFnU8kY-ON",
    "outputId": "b6d1805a-7ee4-4d38-c464-cba922f78057"
   },
   "outputs": [
    {
     "name": "stdout",
     "output_type": "stream",
     "text": [
      " Александр Пушкин КАПИТАНСКАЯ ДОЧКА Береги честь смолоду. Пословица.  ГЛАВА I СЕРЖАНТ ГВАРДИИ — Был \n"
     ]
    }
   ],
   "source": [
    "text = ''                          # Создаем пустую строку, в которой будем хранить текст\n",
    "with open('dochka.txt') as infile: # Если будут проблемы с кодировкой, попробуйте encoding='utf-8'\n",
    "    for line in infile:            # Последовательно для всех строк в файле:\n",
    "        text += line.strip() + ' ' # удаляем пробельные символы по краям строки,\n",
    "                                   # добавляем новую строку и пробел к переменной text \n",
    "\n",
    "# Смотрим, как выглядит начало считанного текста (первые 100 символов)\n",
    "print(text[:100])                  "
   ]
  },
  {
   "cell_type": "markdown",
   "metadata": {
    "id": "V-Qu8YAEY-OV"
   },
   "source": [
    "Хотим составить словарь, в котором ключ — уникальное слова текста, а значение — частота, то есть количество таких слов. Сначала нужно получить список всех слов текста."
   ]
  },
  {
   "cell_type": "code",
   "execution_count": null,
   "metadata": {
    "id": "6ng8D3kYY-OX",
    "outputId": "8e988f33-e57a-416a-9548-1748b7036a0a"
   },
   "outputs": [
    {
     "name": "stdout",
     "output_type": "stream",
     "text": [
      "['', 'Александр', 'Пушкин', 'КАПИТАНСКАЯ', 'ДОЧКА', 'Береги', 'честь', 'смолоду.', 'Пословица.', '']\n"
     ]
    }
   ],
   "source": [
    "almost_words = text.split(' ')  # Разбиваем текст в список по пробелам, \n",
    "                                # Получим список \"почти-слов\" (к ним \"приклеены\" знаки препинания)\n",
    "print(almost_words[:10])        # Смотрим на начало списка \"почти-слов\""
   ]
  },
  {
   "cell_type": "code",
   "execution_count": null,
   "metadata": {
    "colab": {
     "base_uri": "https://localhost:8080/",
     "height": 34
    },
    "executionInfo": {
     "elapsed": 531,
     "status": "ok",
     "timestamp": 1600415394632,
     "user": {
      "displayName": "Анна Шишкова",
      "photoUrl": "https://lh3.googleusercontent.com/a-/AOh14GglV7trPMOxrljX4T6wMrrbCXnSq4k4bMlUL6q9xQ=s64",
      "userId": "05776018689746249823"
     },
     "user_tz": -180
    },
    "id": "L0XTNsJoGt2h",
    "outputId": "12f13872-36cc-414e-9fb9-e29d7bc01648"
   },
   "outputs": [
    {
     "name": "stdout",
     "output_type": "stream",
     "text": [
      "['александр', 'пушкин', 'капитанская', 'дочка', 'береги', 'честь', 'смолоду', 'пословица', 'глава', 'i']\n"
     ]
    }
   ],
   "source": [
    "words = []                                           # Создаем пустой список для хранения слов\n",
    "for almost_word in almost_words:                     # Последовательно для всех \"почти-слов\" записываем слово \n",
    "                                                     # маленькими буквами и убираем знаки препинания с краев \n",
    "    word = almost_word.lower().strip('.,;:!«»?—()\"') \n",
    "    if word != '':          # Если получился не пустой элемент,\n",
    "        words.append(word)  # добавляем его к  списку слов\n",
    "\n",
    "# Смотрим на начало списка слов \n",
    "print(words[:10])   "
   ]
  },
  {
   "cell_type": "markdown",
   "metadata": {
    "id": "drhob7kBY-Ou"
   },
   "source": [
    "## 2. Составление словаря слов\n",
    "Теперь создадим словарь по списку слов. Так как нам придется делать это неоднократно, напишем соответствующую функцию."
   ]
  },
  {
   "cell_type": "code",
   "execution_count": null,
   "metadata": {
    "id": "jGpJnSnfY-Ow"
   },
   "outputs": [],
   "source": [
    "# Функция создания словаря по тексту, представленному в виде списка слов\n",
    "# Входные параметры: текст в виде списка слов\n",
    "# Возвращаемые значения: словарь {слово: количество употреблений слова}\n",
    "\n",
    "def create_dict(list_of_words): \n",
    "    dictionary = {}                # Создаем пустой словарь\n",
    "    for word in list_of_words:     # Последовательно для всех слов в списке:\n",
    "        if word not in dictionary: # если слово встречается впервые,\n",
    "            dictionary[word] = 1   # указываем, что оно пока одно,\n",
    "        else:                      # иначе (если слово уже есть в словаре)\n",
    "            dictionary[word] += 1  # увеличиваем его значение на 1\n",
    "    return dictionary              # Возвращаем заполненный словарь"
   ]
  },
  {
   "cell_type": "markdown",
   "metadata": {
    "id": "DfgPy6xqQokb"
   },
   "source": [
    "Посмотрим на коротком тексте, преобразованном в список слов, как сработает эта функция."
   ]
  },
  {
   "cell_type": "code",
   "execution_count": null,
   "metadata": {
    "colab": {
     "base_uri": "https://localhost:8080/",
     "height": 34
    },
    "executionInfo": {
     "elapsed": 1263,
     "status": "ok",
     "timestamp": 1600439977054,
     "user": {
      "displayName": "Анна Шишкова",
      "photoUrl": "https://lh3.googleusercontent.com/a-/AOh14GglV7trPMOxrljX4T6wMrrbCXnSq4k4bMlUL6q9xQ=s64",
      "userId": "05776018689746249823"
     },
     "user_tz": -180
    },
    "id": "LivvsK5-Qnqn",
    "outputId": "5134e39a-f62f-45bf-983b-5ae6574710f9"
   },
   "outputs": [
    {
     "name": "stdout",
     "output_type": "stream",
     "text": [
      "{'сегодня': 1, 'он': 3, 'гуляет': 2, 'завтра': 1, 'спит': 1, 'послезавтра': 1}\n"
     ]
    }
   ],
   "source": [
    "# Исходный короткий текст: \n",
    "# \"Сегодня он гуляет, завтра он спит, послезавтра он гуляет.\"\n",
    "small_text = 'сегодня он гуляет завтра он спит послезавтра он гуляет'\n",
    "small_list = small_text.split(' ')\n",
    "small_dict = create_dict(small_list)\n",
    "print(small_dict)"
   ]
  },
  {
   "cell_type": "markdown",
   "metadata": {
    "id": "Em3skdEiSguq"
   },
   "source": [
    "Функция сработала верно, применим ее к обрабатываемому списку слов."
   ]
  },
  {
   "cell_type": "code",
   "execution_count": null,
   "metadata": {
    "id": "YYTVJLKsY-O4"
   },
   "outputs": [],
   "source": [
    "dict_of_words = create_dict(words)  # Получаем словарь по заданному списку"
   ]
  },
  {
   "cell_type": "markdown",
   "metadata": {
    "id": "ZX8TNJ0BY-O-"
   },
   "source": [
    "Предыдущий маленький словарь мы легко могли посмотреть целиком, а теперь слов слишком много — хочется посмотреть на фрагмент словаря. Напишем соответствующую функцию, которая будет выводить элементы словаря в заданном диапазоне (в том порядке, в котором они хранятся в словаре)."
   ]
  },
  {
   "cell_type": "code",
   "execution_count": null,
   "metadata": {
    "id": "Mq6CjZdBY-O_"
   },
   "outputs": [],
   "source": [
    "# Функция вывода элементов словаря в заданном диапазоне\n",
    "# Входные параметры: словарь, диапазон вывода (номера начала и конца)\n",
    "# Возвращаемые значения: отсутствуют\n",
    "\n",
    "def print_dict(dictionary, start, end):   \n",
    "    i = 0                           # Заводим счетчик\n",
    "    for w in dictionary:            # Последовательно для всех ключей словаря:\n",
    "        if i >= start:              # если счетчик не меньше номера начала,\n",
    "            print(w, dictionary[w]) # печатаем ключ и значение;\n",
    "        if i == end:                # если счетчик дошел до номера конца,\n",
    "            break                   # выходим из цикла\n",
    "        i += 1                      # Увеличиваем счетчик"
   ]
  },
  {
   "cell_type": "code",
   "execution_count": null,
   "metadata": {
    "colab": {
     "base_uri": "https://localhost:8080/",
     "height": 202
    },
    "executionInfo": {
     "elapsed": 616,
     "status": "ok",
     "timestamp": 1602666274316,
     "user": {
      "displayName": "Анна Шишкова",
      "photoUrl": "https://lh3.googleusercontent.com/a-/AOh14GglV7trPMOxrljX4T6wMrrbCXnSq4k4bMlUL6q9xQ=s64",
      "userId": "05776018689746249823"
     },
     "user_tz": -180
    },
    "id": "NPaqS7BbY-PE",
    "outputId": "73c58592-f2c9-4575-9b74-3afd1c15de11"
   },
   "outputs": [
    {
     "name": "stdout",
     "output_type": "stream",
     "text": [
      "александр 2\n",
      "пушкин 1\n",
      "капитанская 3\n",
      "дочка 2\n",
      "береги 2\n",
      "честь 6\n",
      "смолоду 2\n",
      "пословица 2\n",
      "глава 14\n",
      "i 1\n",
      "сержант 2\n"
     ]
    }
   ],
   "source": [
    "print_dict(dict_of_words, 0, 10)    #  Печатаем элементы словаря с 0 по 10 "
   ]
  },
  {
   "cell_type": "markdown",
   "metadata": {
    "id": "RsjLMgC2_Tbm"
   },
   "source": [
    "# 3. Сортировка словаря слов"
   ]
  },
  {
   "cell_type": "markdown",
   "metadata": {
    "id": "n8QpMg5_Y-PH"
   },
   "source": [
    "Сейчас ключи словаря расположены в том порядке, как мы их записывали. А мы хотим узнать самые популярные, то есть наиболее часто употребляемые слова. Но для этого нужно отсортировать словарь по значениям. Встроенной такой функции нет — напишем свою. Сразу оговоримся, что на выходе будет не словарь, а **отсортированный список, состоящий из ключей и значений словаря**.\n",
    "\n",
    "Сначала по шагам разберем, что будет делать функция. На этапе разработки будем использовать словарь `small_dict`."
   ]
  },
  {
   "cell_type": "code",
   "execution_count": null,
   "metadata": {
    "colab": {
     "base_uri": "https://localhost:8080/",
     "height": 34
    },
    "executionInfo": {
     "elapsed": 1721,
     "status": "ok",
     "timestamp": 1597431209531,
     "user": {
      "displayName": "Анна Шишкова",
      "photoUrl": "https://lh3.googleusercontent.com/a-/AOh14GglV7trPMOxrljX4T6wMrrbCXnSq4k4bMlUL6q9xQ=s64",
      "userId": "05776018689746249823"
     },
     "user_tz": -180
    },
    "id": "K9ho-5TkY-PI",
    "outputId": "cb7c4f8b-10e6-4506-abaa-9915799e0379"
   },
   "outputs": [
    {
     "name": "stdout",
     "output_type": "stream",
     "text": [
      "{'сегодня': 1, 'он': 3, 'гуляет': 2, 'завтра': 1, 'спит': 1, 'послезавтра': 1}\n"
     ]
    }
   ],
   "source": [
    "print(small_dict)"
   ]
  },
  {
   "cell_type": "markdown",
   "metadata": {
    "id": "GIornPqLVETP"
   },
   "source": [
    "Преобразуем словарь в список. Для этого нужно преобразовать словарь в пары (ключ, значение) с помощью метода `items()`."
   ]
  },
  {
   "cell_type": "code",
   "execution_count": null,
   "metadata": {
    "colab": {
     "base_uri": "https://localhost:8080/",
     "height": 70
    },
    "executionInfo": {
     "elapsed": 655,
     "status": "ok",
     "timestamp": 1597431238048,
     "user": {
      "displayName": "Анна Шишкова",
      "photoUrl": "https://lh3.googleusercontent.com/a-/AOh14GglV7trPMOxrljX4T6wMrrbCXnSq4k4bMlUL6q9xQ=s64",
      "userId": "05776018689746249823"
     },
     "user_tz": -180
    },
    "id": "PLzzDlYLUNYC",
    "outputId": "0a8efac6-482a-45c2-ea1a-669a33eea106"
   },
   "outputs": [
    {
     "name": "stdout",
     "output_type": "stream",
     "text": [
      "{'сегодня': 1, 'он': 3, 'гуляет': 2, 'завтра': 1, 'спит': 1, 'послезавтра': 1}\n",
      "dict_items([('сегодня', 1), ('он', 3), ('гуляет', 2), ('завтра', 1), ('спит', 1), ('послезавтра', 1)])\n"
     ]
    }
   ],
   "source": [
    "print(small_dict.items()) # Вспоминаем, как работает метод items()"
   ]
  },
  {
   "cell_type": "code",
   "execution_count": null,
   "metadata": {
    "colab": {
     "base_uri": "https://localhost:8080/",
     "height": 118
    },
    "executionInfo": {
     "elapsed": 1096,
     "status": "ok",
     "timestamp": 1597347457401,
     "user": {
      "displayName": "Анна Шишкова",
      "photoUrl": "https://lh3.googleusercontent.com/a-/AOh14GglV7trPMOxrljX4T6wMrrbCXnSq4k4bMlUL6q9xQ=s64",
      "userId": "05776018689746249823"
     },
     "user_tz": -180
    },
    "id": "BuyexO2ruyc1",
    "outputId": "24a8b25c-4a95-4eae-c68f-5e7df2553392"
   },
   "outputs": [
    {
     "name": "stdout",
     "output_type": "stream",
     "text": [
      "('сегодня', 1)\n",
      "('он', 3)\n",
      "('гуляет', 2)\n",
      "('завтра', 1)\n",
      "('спит', 1)\n",
      "('послезавтра', 1)\n"
     ]
    }
   ],
   "source": [
    "list_d = list(small_dict.items()) # Преобразуем словарь в список\n",
    "print(*list_d, sep = '\\n')"
   ]
  },
  {
   "cell_type": "markdown",
   "metadata": {
    "id": "e7igaU56VIKi"
   },
   "source": [
    "Теперь хотим отсортировать список так, чтобы наверху списка оказались самые популярные слова. Значит, сортировать нужно по частоте, то есть по количеству употреблений слова — по второму элементу.\n",
    "\n",
    "Но простая сортировка списка отсортирует по первым элементам списка, которые в нашем случае являются строками: "
   ]
  },
  {
   "cell_type": "code",
   "execution_count": null,
   "metadata": {
    "colab": {
     "base_uri": "https://localhost:8080/",
     "height": 118
    },
    "executionInfo": {
     "elapsed": 492,
     "status": "ok",
     "timestamp": 1597321248016,
     "user": {
      "displayName": "Анна Шишкова",
      "photoUrl": "https://lh3.googleusercontent.com/a-/AOh14GglV7trPMOxrljX4T6wMrrbCXnSq4k4bMlUL6q9xQ=s64",
      "userId": "05776018689746249823"
     },
     "user_tz": -180
    },
    "id": "Q7YNDwMZwtKE",
    "outputId": "9d964884-8ead-47e1-dee7-13389ddddf06"
   },
   "outputs": [
    {
     "name": "stdout",
     "output_type": "stream",
     "text": [
      "('гуляет', 2)\n",
      "('завтра', 1)\n",
      "('он', 3)\n",
      "('послезавтра', 1)\n",
      "('сегодня', 1)\n",
      "('спит', 1)\n"
     ]
    }
   ],
   "source": [
    "sorted_list = sorted(list_d)\n",
    "print(*sorted_list, sep='\\n')"
   ]
  },
  {
   "cell_type": "markdown",
   "metadata": {
    "id": "7aCv5hxEVNSv"
   },
   "source": [
    "Если бы мы хотели получить сортировку слов по алфавиту, нас бы это устроило. Но мы хотим найти самые популярные слова. Это значит, что мы хотим отсортировать по \"второму столбцу\" — второму элементу кортежей. Для этого можем вывести его на первое место, так как сортировка списка начинается с первых элементов кортежей.\n",
    "\n",
    "Поменяем местами слово и количество употреблений, чтобы то, по чему мы хотим сортировать, стояло на первом месте:"
   ]
  },
  {
   "cell_type": "code",
   "execution_count": null,
   "metadata": {
    "colab": {
     "base_uri": "https://localhost:8080/",
     "height": 118
    },
    "executionInfo": {
     "elapsed": 976,
     "status": "ok",
     "timestamp": 1597321539890,
     "user": {
      "displayName": "Анна Шишкова",
      "photoUrl": "https://lh3.googleusercontent.com/a-/AOh14GglV7trPMOxrljX4T6wMrrbCXnSq4k4bMlUL6q9xQ=s64",
      "userId": "05776018689746249823"
     },
     "user_tz": -180
    },
    "id": "MAqKH5pfxkeb",
    "outputId": "170daa02-9e24-4c76-efd5-b62ab9a424dc"
   },
   "outputs": [
    {
     "name": "stdout",
     "output_type": "stream",
     "text": [
      "(1, 'сегодня')\n",
      "(3, 'он')\n",
      "(2, 'гуляет')\n",
      "(1, 'завтра')\n",
      "(1, 'спит')\n",
      "(1, 'послезавтра')\n"
     ]
    }
   ],
   "source": [
    "list_swop = []\n",
    "for word, count in list_d:          # Последовательно для всех ключей и значений:  \n",
    "    list_swop.append((count, word)) # добавляем их в список в виде кортежа (значение, ключ)\n",
    "\n",
    "# Строки 2-3 можно записать так:\n",
    "# for pair in list_d:                      # для всех котрежей pair = (word, count) в списке\n",
    "#     list_swop.append((pair[1], pair[0])) # добавляем элементы кортежа в обратном порядке\n",
    "\n",
    "print(*list_swop, sep='\\n')"
   ]
  },
  {
   "cell_type": "markdown",
   "metadata": {
    "id": "0osU5VpfVVq4"
   },
   "source": [
    "Осталось отсортировать полученный список:"
   ]
  },
  {
   "cell_type": "code",
   "execution_count": null,
   "metadata": {
    "colab": {
     "base_uri": "https://localhost:8080/",
     "height": 118
    },
    "executionInfo": {
     "elapsed": 510,
     "status": "ok",
     "timestamp": 1597321862307,
     "user": {
      "displayName": "Анна Шишкова",
      "photoUrl": "https://lh3.googleusercontent.com/a-/AOh14GglV7trPMOxrljX4T6wMrrbCXnSq4k4bMlUL6q9xQ=s64",
      "userId": "05776018689746249823"
     },
     "user_tz": -180
    },
    "id": "Mx65_lzNv48N",
    "outputId": "32d2f71a-0679-45e0-e62f-99370f1b2cf0"
   },
   "outputs": [
    {
     "name": "stdout",
     "output_type": "stream",
     "text": [
      "(1, 'завтра')\n",
      "(1, 'послезавтра')\n",
      "(1, 'сегодня')\n",
      "(1, 'спит')\n",
      "(2, 'гуляет')\n",
      "(3, 'он')\n"
     ]
    }
   ],
   "source": [
    "sorted_list = sorted(list_swop)\n",
    "print(*sorted_list, sep='\\n')"
   ]
  },
  {
   "cell_type": "markdown",
   "metadata": {
    "id": "3_CWfYIaVZqu"
   },
   "source": [
    "Но нам нужно по убыванию:"
   ]
  },
  {
   "cell_type": "code",
   "execution_count": null,
   "metadata": {
    "colab": {
     "base_uri": "https://localhost:8080/",
     "height": 118
    },
    "executionInfo": {
     "elapsed": 563,
     "status": "ok",
     "timestamp": 1597321916182,
     "user": {
      "displayName": "Анна Шишкова",
      "photoUrl": "https://lh3.googleusercontent.com/a-/AOh14GglV7trPMOxrljX4T6wMrrbCXnSq4k4bMlUL6q9xQ=s64",
      "userId": "05776018689746249823"
     },
     "user_tz": -180
    },
    "id": "myO6sv9Xzf36",
    "outputId": "c3645312-37b0-4b1b-b1be-7ff4f09ebe83"
   },
   "outputs": [
    {
     "name": "stdout",
     "output_type": "stream",
     "text": [
      "(3, 'он')\n",
      "(2, 'гуляет')\n",
      "(1, 'спит')\n",
      "(1, 'сегодня')\n",
      "(1, 'послезавтра')\n",
      "(1, 'завтра')\n"
     ]
    }
   ],
   "source": [
    "sorted_list = sorted(list_swop, reverse=True)\n",
    "print(*sorted_list, sep='\\n')"
   ]
  },
  {
   "cell_type": "markdown",
   "metadata": {
    "id": "AzeN2uXkTVM9"
   },
   "source": [
    "Возможно, функция сортировки по значению пригодится не только в данной задаче, но и при работе с другими словарями. Поэтому переменную `word` переименуем в `key` (_ключ_), а переменную `count` — в `value` (_значение_). И дадим пользователю возможность выбирать, по возрастанию или по убыванию значений сортировать словарь. Итого, получаем следующую функцию:"
   ]
  },
  {
   "cell_type": "code",
   "execution_count": null,
   "metadata": {
    "id": "pOJZI2GMTaiu"
   },
   "outputs": [],
   "source": [
    "# Функция сортировки словаря по значениям\n",
    "# Входные параметры: словарь, True или False для сортировки по убыванию и возрастанию соответственно\n",
    "# Возвращаемые значения: отсортированный по значениям список кортежей (значение, ключ)\n",
    "\n",
    "def sort_dict_by_value(dictionary, reversed_order):\n",
    "    list_d = list(dictionary.items())   # Преобразуем словарь в список\n",
    "    list_swop = []                      # Создаем пустой список, в котором ключ и значение поменяются местами\n",
    "    for key, value in list_d:           # Последовательно для всех ключей и значений:  \n",
    "        list_swop.append((value, key))  # добавляем их в список в виде кортежа (значение, ключ)\n",
    "    list_sorted = sorted(list_swop, reverse=reversed_order) # Сортируем список кортежей по убыванию\n",
    "    return list_sorted                  # Возвращаем отсортированный список кортежей"
   ]
  },
  {
   "cell_type": "markdown",
   "metadata": {
    "id": "XWTBzoBjTrl-"
   },
   "source": [
    "Запустим ее на большом словаре слов:"
   ]
  },
  {
   "cell_type": "code",
   "execution_count": null,
   "metadata": {
    "id": "24TFTkqUY-PW",
    "outputId": "0b3eaa81-020d-4481-bdb9-6c4aaf85342c"
   },
   "outputs": [
    {
     "name": "stdout",
     "output_type": "stream",
     "text": [
      "(1176, 'и')\n",
      "(733, 'я')\n",
      "(691, 'в')\n",
      "(584, 'не')\n",
      "(446, 'что')\n",
      "(424, 'с')\n",
      "(422, 'на')\n",
      "(291, 'он')\n",
      "(291, 'меня')\n",
      "(258, 'мне')\n"
     ]
    }
   ],
   "source": [
    "sorted_list = sort_dict_by_value(dict_of_words, True) # Получаем из словаря отсортированный по убыванию значений список\n",
    "print(*sorted_list[:10], sep='\\n')                    # Печатаем 10 самых популярных слов"
   ]
  },
  {
   "cell_type": "markdown",
   "metadata": {
    "id": "Y6Si5jtAY-Pc"
   },
   "source": [
    "Видим, что по наиболее часто употребляемым словам нельзя ничего узнать о тексте. Требуется дополнительная обработка."
   ]
  },
  {
   "cell_type": "markdown",
   "metadata": {
    "id": "KZIDFSRPY-Pp"
   },
   "source": [
    "# 4. Удаление стоп-слов"
   ]
  },
  {
   "cell_type": "markdown",
   "metadata": {
    "id": "xsla5J9HY-Pp"
   },
   "source": [
    "Если мы хотим получить какую-то информацию о тексте по наиболее часто употребяемым словам, необходимо очистить текст от так называемых стоп-слов: в основном это местоимения и служебные части речи, которых много в каждом тексте и которые не несут информации о содержании текста.\n",
    "\n",
    "Создадим список с общепринятыми стоп-словами для русского языка (список заимствован из модуля для обработки естественного языка Natural Language Toolkit и дополнены несколькими словами)."
   ]
  },
  {
   "cell_type": "code",
   "execution_count": null,
   "metadata": {
    "id": "96hq-0XgY-Pt"
   },
   "outputs": [],
   "source": [
    "stopwords = ['и', 'в', 'во', 'не', 'что', 'он', 'на', 'я', 'с', 'со', 'как', 'а', 'то', 'все', 'она', 'так', 'его', 'но', 'да', 'ты', 'к', 'у', 'же', 'вы', 'за', 'бы', 'по', 'только', 'ее', 'мне', 'было', 'вот', 'от', 'меня', 'еще', 'нет', 'о', 'из', 'ему', 'теперь', 'когда', 'даже', 'ну', 'вдруг', 'ли', 'если', 'уже', 'или', 'ни', 'быть', 'был', 'него', 'до', 'вас', 'нибудь', 'опять', 'уж', 'вам', 'ведь', 'там', 'потом', 'себя', 'ничего', 'ей', 'может', 'они', 'тут', 'где', 'есть', 'надо', 'ней', 'для', 'мы', 'тебя', 'их', 'чем', 'была', 'сам', 'чтоб', 'без', 'будто', 'чего', 'раз', 'тоже', 'себе', 'под', 'будет', 'ж', 'тогда', 'кто', 'этот', 'того', 'потому', 'этого', 'какой', 'совсем', 'ним', 'здесь', 'этом', 'один', 'почти', 'мой', 'тем', 'чтобы', 'нее', 'сейчас', 'были', 'куда', 'зачем', 'всех', 'никогда', 'можно', 'при', 'наконец', 'два', 'об', 'другой', 'хоть', 'после', 'над', 'больше', 'тот', 'через', 'эти', 'нас', 'про', 'всего', 'них', 'какая', 'много', 'разве', 'три', 'эту', 'моя', 'впрочем', 'хорошо', 'свою', 'этой', 'перед', 'иногда', 'лучше', 'чуть', 'том', 'нельзя', 'такой', 'им', 'более', 'всегда', 'конечно', 'всю', 'между', 'сказал','это','сказала']"
   ]
  },
  {
   "cell_type": "markdown",
   "metadata": {
    "id": "bQWXvAJnY-Pz"
   },
   "source": [
    "Создаем новый список всех слов текста, в который войдут только слова, не являющиеся стоп-словами (то есть не входящие в список стоп-слов)."
   ]
  },
  {
   "cell_type": "code",
   "execution_count": null,
   "metadata": {
    "id": "xpbJUR_hY-P1",
    "outputId": "ca60d7b7-ca2a-49f5-b493-00472e74084d"
   },
   "outputs": [
    {
     "name": "stdout",
     "output_type": "stream",
     "text": [
      "['отец', 'андрей', 'петрович', 'гринев', 'молодости', 'своей', 'служил', 'графе', 'минихе', 'вышел']\n"
     ]
    }
   ],
   "source": [
    "words_without_stopwords = []                 # Создаем пустой список\n",
    "for word in words:                           # Последовательно для всех слов из списка:\n",
    "    if word not in stopwords:                # если слово не находится в списке стоп-слов,\n",
    "        words_without_stopwords.append(word) # добавляем его к новому списку\n",
    "print(words_without_stopwords[25:35])        # Смотрим фрагмент получившегося списка, где видно, что стоп-слова исключены"
   ]
  },
  {
   "cell_type": "markdown",
   "metadata": {
    "id": "NXKowjSPY-QJ"
   },
   "source": [
    "Создадим словарь по списку без стоп-слов и распечатаем несколько ключей и значений."
   ]
  },
  {
   "cell_type": "code",
   "execution_count": null,
   "metadata": {
    "id": "7jb7RNaJY-QK",
    "outputId": "b77c80f3-f12a-4f28-9f13-739670212570"
   },
   "outputs": [
    {
     "name": "stdout",
     "output_type": "stream",
     "text": [
      "петрович 6\n",
      "гринев 3\n",
      "молодости 2\n",
      "своей 17\n",
      "служил 2\n",
      "графе 1\n",
      "минихе 1\n",
      "вышел 15\n",
      "отставку 1\n",
      "премьер-майором 1\n"
     ]
    }
   ],
   "source": [
    "dict_without_stopwords = create_dict(words_without_stopwords)\n",
    "print_dict(dict_without_stopwords, 25, 35) \n",
    "# Слова \"отец\" и \"андрей\" в этом диапазоне не вывелись, \n",
    "# так как слово \"отец\" употреблялось в тексте ранее \n",
    "# (и слово \"гвардии\" встречалось дважды)"
   ]
  },
  {
   "cell_type": "markdown",
   "metadata": {
    "id": "NFwKskuXY-QP"
   },
   "source": [
    "Осталось отсортировать список — используем подготовленную функцию."
   ]
  },
  {
   "cell_type": "code",
   "execution_count": null,
   "metadata": {
    "id": "GZ_akJQfY-QP",
    "outputId": "13bee345-1d34-4178-aa86-686a5710e054"
   },
   "outputs": [
    {
     "name": "stdout",
     "output_type": "stream",
     "text": [
      "(88, 'пугачев')\n",
      "(85, 'отвечал')\n",
      "(75, 'марья')\n",
      "(75, 'ивановна')\n",
      "(74, 'тебе')\n",
      "(66, 'савельич')\n",
      "(62, 'иван')\n",
      "(61, 'батюшка')\n",
      "(55, 'швабрин')\n",
      "(55, 'крепости')\n"
     ]
    }
   ],
   "source": [
    "sorted_without_stopwords = sort_dict_by_value(dict_without_stopwords, True)\n",
    "print(*sorted_without_stopwords[:10], sep='\\n') # Печатаем 10 самых частых слов"
   ]
  },
  {
   "cell_type": "markdown",
   "metadata": {
    "id": "a2cD87TtY-Qj"
   },
   "source": [
    "Теперь наиболее часто встречаемые слова текста можно назвать его _ключевыми словами_ — по ним можно узнать, как минимум, нескольких главных героев произведения."
   ]
  },
  {
   "cell_type": "markdown",
   "metadata": {
    "id": "F5ydS8TIY-Qk"
   },
   "source": [
    "# 5. Запись в файл"
   ]
  },
  {
   "cell_type": "markdown",
   "metadata": {
    "id": "KtbO_t8CY-Qk"
   },
   "source": [
    "Когда все операции выполнены, может возникнуть потребность сохранить результаты в файл. Реализуем ситуацию, когда нужно сохранить список без стоп-слов по убыванию частоты встречаемости в тексте."
   ]
  },
  {
   "cell_type": "code",
   "execution_count": null,
   "metadata": {
    "id": "pLYlIPt6Y-Ql"
   },
   "outputs": [],
   "source": [
    "with open('words.txt', 'w') as outfile:                      # Выбираем имя файла, указываем, что это файл для записи: \n",
    "                                                             # 'w' (write)\n",
    "    print(*sorted_without_stopwords, sep='\\n', file=outfile) # Печатаем отсортированный список файл "
   ]
  },
  {
   "cell_type": "markdown",
   "metadata": {
    "id": "Oqgttr6OY-Qp"
   },
   "source": [
    "Сейчас в файле есть скобки:"
   ]
  },
  {
   "cell_type": "code",
   "execution_count": null,
   "metadata": {
    "id": "piV3kbpcY-Qq",
    "outputId": "4e19b15d-8fb0-4804-9388-2ec107661a54"
   },
   "outputs": [
    {
     "name": "stdout",
     "output_type": "stream",
     "text": [
      "(88, 'пугачев')\n",
      "(85, 'отвечал')\n",
      "(75, 'марья')\n",
      "(75, 'ивановна')\n",
      "(74, 'тебе')\n",
      "(66, 'савельич')\n",
      "(62, 'иван')\n"
     ]
    }
   ],
   "source": [
    "print(*sorted_without_stopwords[:7], sep='\\n')"
   ]
  },
  {
   "cell_type": "markdown",
   "metadata": {
    "id": "hEzLYfkcY-Qz"
   },
   "source": [
    "Сделаем по-другому: будем записывать в файл в цикле, заодно поменяем местами слово и частоту."
   ]
  },
  {
   "cell_type": "code",
   "execution_count": null,
   "metadata": {
    "id": "TysLgBwGY-Q0"
   },
   "outputs": [],
   "source": [
    "with open('words.csv', 'w') as outfile:   # Можно указать и 'a' (append) — если файла нет или он пустой и \n",
    "                                          # мы его открываем всего 1 раз, то 'a' сработает так же, как и 'w'\n",
    "    for word in sorted_without_stopwords: # Последовательно для всех слов в отсортированном списке без стоп-слов\n",
    "        print(word[1], word[0], sep=', ', file=outfile) # На нулевой позиции кортежа лежит частота, а на первой — слово"
   ]
  },
  {
   "cell_type": "markdown",
   "metadata": {
    "id": "Y9LiRDb6Y-Q4"
   },
   "source": [
    "Полученный файл можем открыть в виде таблицы, например, в Google Sheets."
   ]
  },
  {
   "cell_type": "markdown",
   "metadata": {
    "id": "x5bTHzjlY-Q5"
   },
   "source": [
    "# Задание для любознательных \n",
    "_не проверяется, не оценивается_\n",
    "\n",
    "Как вы могли заметить, в результате сортировки слова с одинаковой частотой выстроились в обратном порядке: от Я до А. Особенно это заметно, если смотреть в конец списка, где количество употреблений каждого слова равно 1. Но вся сортировка делалась для поиска самых популярных слов, у которых редко совпадают частоты. То есть конец списка — это \"побочный продукт\". Тем не менее, может возникнуть желание исправить эту ситуацию. **Подумайте, как можно отсортировать так, чтобы слова шли по убыванию количества употреблений, а слова с одинаковым количеством употреблений — по возрастанию (в алфавитном порядке).**"
   ]
  },
  {
   "cell_type": "markdown",
   "metadata": {
    "id": "QFtSZTFKY-Q6"
   },
   "source": [
    "Один из вариантов решения представлен ниже. Сначала попробуйте придумать свой способ, а потом — разобраться в предложенном решении. Раскомментируйте код, чтобы запустить программу."
   ]
  },
  {
   "cell_type": "code",
   "execution_count": null,
   "metadata": {
    "id": "cdzR6JjKY-Q7"
   },
   "outputs": [],
   "source": [
    "# # Определяем функцию для правильной сортировки: частоты – по убыванию, слова с одинаковой частотой — от А до Я\n",
    "# # Входные параметры: список кортежей (частота, слово), отсортированный по убыванию частот\n",
    "# # Возвращаемые значения: такой же список кортежей, но слова с одинаковой частотой — в алфавитном порядке\n",
    "\n",
    "# def new_sort(old_list):\n",
    "#     counts = []                 # Создаем пустой список для записи частот\n",
    "#     for word in old_list:       # Последовательно для всех слов в исходном списке\n",
    "#         counts.append(word[0])  # добавляем частоты в список частот\n",
    "#     counts_set = set(counts)    # Создаем множество уникальных частот\n",
    "#     counts = list (counts_set)  # Преобразуем его в список\n",
    "#     counts.sort(reverse = True) # Сортируем по убыванию\n",
    "# #    print('Частоты:', counts)  # Смотрим, что получилось\n",
    "    \n",
    "#     new_list = []               # Создаем новый список, в котором будет правильная сортировка\n",
    "#     i = 0                       # Заводим счетчик\n",
    "#     for count in counts:        # Последовательно для всех частот из списка частот\n",
    "#         sublist = []            # создаем подсписок, в котором будут только слова с данной частотой\n",
    "#         while i < len(old_list) and old_list[i][0] == count: # пока не вышли за пределы списка слов и частота\n",
    "#                                                              # данного слова равна текущей частоте,\n",
    "#             sublist.append(old_list[i]) # добавляем слово в подсписок\n",
    "#             i += 1                      # Увеличиваем счетчик\n",
    "#         new_list += sorted(sublist)     # Добавляем отсортированный подсписок к новому списку\n",
    "#     return new_list                     # Возвращаем новый список"
   ]
  },
  {
   "cell_type": "code",
   "execution_count": null,
   "metadata": {
    "id": "eILhJSTuY-Q_"
   },
   "outputs": [],
   "source": [
    "# new_list = new_sort(sorted_without_stopwords) \n",
    "# print(*new_list[8400:], sep='\\n')"
   ]
  }
 ],
 "metadata": {
  "colab": {
   "collapsed_sections": [],
   "name": "8.11.4–8.11.8 Работа с текстовыми файлами.ipynb",
   "provenance": []
  },
  "kernelspec": {
   "display_name": "Python 3 (ipykernel)",
   "language": "python",
   "name": "python3"
  },
  "language_info": {
   "codemirror_mode": {
    "name": "ipython",
    "version": 3
   },
   "file_extension": ".py",
   "mimetype": "text/x-python",
   "name": "python",
   "nbconvert_exporter": "python",
   "pygments_lexer": "ipython3",
   "version": "3.9.13"
  }
 },
 "nbformat": 4,
 "nbformat_minor": 1
}
