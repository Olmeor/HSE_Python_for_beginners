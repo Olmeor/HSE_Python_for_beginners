{
  "cells": [
    {
      "cell_type": "markdown",
      "metadata": {
        "id": "aeCztTKUEUMg"
      },
      "source": [
        "# Библиотеки и модули\n",
        "\n",
        "Мы умеем пользоваться некоторыми встроенными функциями Python и научились создавать собственные функции. Но это еще не все возможности. Поговорим про библиотеки и модули и научимся их использовать.\n",
        "\n",
        "Если несколько функций позволяют решать схожие задачи, то их объединяют в **модули**.  Например, модуль `math` объединяет в себе математические функции , модуль `string` предназначен для работы со строками, модуль `random` предлагает функции для генерации псевдослучайных чисел.  Причем в модуле могут быть собраны не только функции, но и, например, значения переменных.\n",
        "\n",
        "Эти модули и многие другие объединены в **Стандартную библиотеку Python**. Эта библиотека поставляется в составе Python, ее не нужно отдельно скачивать и устанавливать. Библиотека и входящие в нее модули описана в документации: https://docs.python.org/3/library/.\n",
        "\n",
        "\n",
        "При этом многие программисты и корпорации создают свои модули и готовы делиться ими с другими. В частности, вы можете найти библиотеки и модули для написания игр, для работы с Telegram и vk.com и многие другие. Возможность пользоваться чужими наработками существенно упрощает работу программиста. В отличие от модулей Стандартной библиотеки Python, другие модули нужно скачивать и устанавливать отдельно. А информацию о них искать в поисковиках — это тоже часть работы программиста.\n",
        "\n",
        "\n",
        "\n",
        "\n",
        "Сейчас мы научимся использовать модули Стандартной библиотеки Python. "
      ]
    },
    {
      "cell_type": "markdown",
      "metadata": {
        "id": "fKNEhWQKEUMk"
      },
      "source": [
        "## Пример использования модуля Стандартной библиотеки Python\n",
        "\n",
        "Допустим, мы хотим сделать квадратную лужайку и засадить ее искусственным газоном. Такой газон продается маленькими квадратами метр на метр. Какова будет длина стороны лужайки, если мы купили 16 таких маленьких квадратов? Вспоминаем школьную программу: длина стороны квадратной лужайки будет равна корню из 16. Корень из 16 равен 4, так как 4 * 4 = 16. Попробуем написать программу, которая сможет дать ответ на этот вопрос. Ведь если квадратов всего 16, мы легко посчитаем все в уме. А если 4489? Пусть за нас это сделает компьютер. \n",
        "Воспользуемся функцией `sqrt()` из модуля  `math`. Эта функция как раз вычисляет квадратный корень, попробуем ее вызвать."
      ]
    },
    {
      "cell_type": "code",
      "execution_count": null,
      "metadata": {
        "id": "Y2qpyo4kEUMl",
        "outputId": "bceae8e7-ae5f-4a47-a501-ae88c1e91c00"
      },
      "outputs": [
        {
          "ename": "NameError",
          "evalue": "name 'sqrt' is not defined",
          "output_type": "error",
          "traceback": [
            "\u001b[1;31m---------------------------------------------------------------------------\u001b[0m",
            "\u001b[1;31mNameError\u001b[0m                                 Traceback (most recent call last)",
            "\u001b[1;32m<ipython-input-1-206209cde5df>\u001b[0m in \u001b[0;36m<module>\u001b[1;34m\u001b[0m\n\u001b[1;32m----> 1\u001b[1;33m \u001b[0msqrt\u001b[0m\u001b[1;33m(\u001b[0m\u001b[1;36m16\u001b[0m\u001b[1;33m)\u001b[0m \u001b[1;31m# Пытаемся вызвать функцию sqrt() из модуля math\u001b[0m\u001b[1;33m\u001b[0m\u001b[0m\n\u001b[0m",
            "\u001b[1;31mNameError\u001b[0m: name 'sqrt' is not defined"
          ]
        }
      ],
      "source": [
        "sqrt(16) # Пытаемся вызвать функцию sqrt() из модуля math"
      ]
    },
    {
      "cell_type": "markdown",
      "metadata": {
        "id": "a3ap8pGHEUMn"
      },
      "source": [
        "Не получилось. Потому что в отличие от тех частых, нужных, популярных функций типа `print()`, которые мы уже использовали, функция `sqrt()` \"убрана\" в отдельный модуль — и этот модуль надо **импортировать**. "
      ]
    },
    {
      "cell_type": "code",
      "execution_count": null,
      "metadata": {
        "id": "XieNCrq9EUMn"
      },
      "outputs": [],
      "source": [
        "import math # Импортируем модуль math"
      ]
    },
    {
      "cell_type": "code",
      "execution_count": null,
      "metadata": {
        "id": "cwYsJhZJEUMo",
        "outputId": "6406f594-59e6-488a-a8d5-e52214ac65b6"
      },
      "outputs": [
        {
          "ename": "NameError",
          "evalue": "name 'sqrt' is not defined",
          "output_type": "error",
          "traceback": [
            "\u001b[1;31m---------------------------------------------------------------------------\u001b[0m",
            "\u001b[1;31mNameError\u001b[0m                                 Traceback (most recent call last)",
            "\u001b[1;32m<ipython-input-3-744417e21828>\u001b[0m in \u001b[0;36m<module>\u001b[1;34m\u001b[0m\n\u001b[1;32m----> 1\u001b[1;33m \u001b[0msqrt\u001b[0m\u001b[1;33m(\u001b[0m\u001b[1;36m16\u001b[0m\u001b[1;33m)\u001b[0m \u001b[1;31m# Снова пытаемся вызвать функцию sqrt() из модуля math, предварительно его импортировав\u001b[0m\u001b[1;33m\u001b[0m\u001b[0m\n\u001b[0m",
            "\u001b[1;31mNameError\u001b[0m: name 'sqrt' is not defined"
          ]
        }
      ],
      "source": [
        "sqrt(16) # Снова пытаемся вызвать функцию sqrt() из модуля math, предварительно его импортировав"
      ]
    },
    {
      "cell_type": "markdown",
      "metadata": {
        "id": "igtDQnoFEUMo"
      },
      "source": [
        "Снова не получилось. Дело в том, что мы никак не пояснили, что это _именно та_ функция `sqrt()`, которая лежит в модуле `math`, а не какая-то другая. Чтобы это указать, нужно написать через точку: `<модуль>.<функция()>`. Попробуем."
      ]
    },
    {
      "cell_type": "code",
      "execution_count": null,
      "metadata": {
        "id": "85Yb61feEUMp",
        "outputId": "9c373c1c-94cc-4891-8ad1-aa734b2eccc6"
      },
      "outputs": [
        {
          "data": {
            "text/plain": [
              "4.0"
            ]
          },
          "execution_count": 4,
          "metadata": {},
          "output_type": "execute_result"
        }
      ],
      "source": [
        "math.sqrt(16) # снова пытаемся вызвать функцию sqrt(), указав, что это функция из модуля math"
      ]
    },
    {
      "cell_type": "markdown",
      "metadata": {
        "id": "myPNwIGrEUMp"
      },
      "source": [
        "Получилось! Мы могли бы сделать печать значения через `print`: `print(math.sqrt(16))` — попробуйте.\n",
        "\n",
        "Теперь посчитаем сторону квадратной лужайки для случая с 4489 квадратиками."
      ]
    },
    {
      "cell_type": "code",
      "execution_count": null,
      "metadata": {
        "id": "rt7F_izwEUMp",
        "outputId": "28a6f8f5-0dd2-4b21-de0b-86577419f661"
      },
      "outputs": [
        {
          "data": {
            "text/plain": [
              "67.0"
            ]
          },
          "execution_count": 5,
          "metadata": {},
          "output_type": "execute_result"
        }
      ],
      "source": [
        "math.sqrt(4489) # Или распечатаем: print(math.sqrt(4489))"
      ]
    },
    {
      "cell_type": "markdown",
      "metadata": {
        "id": "2EPoCbhnEUMq"
      },
      "source": [
        "Длина стороны равна 67 метрам — большая будет лужайка!"
      ]
    },
    {
      "cell_type": "markdown",
      "metadata": {
        "id": "O_RfnljHEUMq"
      },
      "source": [
        "# Импорт отдельных компонент модуля\n",
        "\n",
        "Вам может показаться, что не слишком удобно писать каждый раз название модуля, точку, название функции. \n",
        "\n",
        "Чтобы этого избежать, можем явно указать, _что именно_ мы импортируем из модуля.\n",
        "\n",
        "Давайте сделаем это для двух функций из модуля `random`, позволяющих генерировать псевдослучайные числа. На псевдослучайных числах основаны \"непредсказуемые\" передвижения персонажей в компьютерных играх, а также с их помощью обеспечивается защита банковских операций по кредитным картам."
      ]
    },
    {
      "cell_type": "code",
      "execution_count": null,
      "metadata": {
        "id": "jb8XgX_0EUMq"
      },
      "outputs": [],
      "source": [
        "from random import randint, uniform # Импортируем две функции из модуля random, здесь скобки не нужны"
      ]
    },
    {
      "cell_type": "markdown",
      "metadata": {
        "id": "ACVfRQPyEUMr"
      },
      "source": [
        "Чтобы узнать, что делают эти функции и какие аргументы им нужно подавать, можно посмотреть документацию или воспользоваться функцией `help()`:"
      ]
    },
    {
      "cell_type": "code",
      "execution_count": null,
      "metadata": {
        "id": "47l6FMnLEUMr",
        "outputId": "4bb92cc1-2559-4b59-aaaa-268acdf66256"
      },
      "outputs": [
        {
          "name": "stdout",
          "output_type": "stream",
          "text": [
            "Help on method randint in module random:\n",
            "\n",
            "randint(a, b) method of random.Random instance\n",
            "    Return random integer in range [a, b], including both end points.\n",
            "\n"
          ]
        }
      ],
      "source": [
        "help(randint)"
      ]
    },
    {
      "cell_type": "markdown",
      "metadata": {
        "id": "A2Qw5LsdEUMr"
      },
      "source": [
        "Мы видим всю информацию о функции `randint()`: она содержится в модуле `random`, возвращает целое псевдослучайное число в заданном диапазоне, принимая на вход границы диапазона.\n",
        "\n",
        "Аналогичным образом можно узнать, что функция `uniform()` принимает границы диапазона и возвращает дробное псевдослучайное число.\n",
        "\n",
        "Посмотрим, как сработают эти функции в диапазоне от 100 до 200:"
      ]
    },
    {
      "cell_type": "code",
      "execution_count": null,
      "metadata": {
        "id": "kjuUZ5w8EUMr",
        "outputId": "fa04c1f2-c2e8-4599-d825-902fc7b97779"
      },
      "outputs": [
        {
          "name": "stdout",
          "output_type": "stream",
          "text": [
            "100\n",
            "135.8043687756483\n",
            "161\n",
            "149.24227021619546\n",
            "115\n",
            "180.81244672173443\n",
            "159\n",
            "190.5900767243048\n",
            "156\n",
            "198.464998475453\n"
          ]
        }
      ],
      "source": [
        "# Вызываем функции по 5 раз\n",
        "for i in range(5):            \n",
        "    print(randint(100, 200)) \n",
        "    print(uniform(100, 200)) "
      ]
    },
    {
      "cell_type": "markdown",
      "metadata": {
        "id": "ScXYOliPEUMs"
      },
      "source": [
        "Получили по 5 разных псевдослучайных чисел для каждой функции в указанном диапазоне — все получилось без указания модуля через точку.\n"
      ]
    },
    {
      "cell_type": "markdown",
      "metadata": {
        "id": "-fCPbnElEUMs"
      },
      "source": [
        "Более того, если нам нужно много функций и переменных из одного модуля,то можем импортировать всё сразу, используя **звездочку**. Тогда указывать модуль через точку тоже не нужно.\n"
      ]
    },
    {
      "cell_type": "code",
      "execution_count": null,
      "metadata": {
        "id": "zWCFJYVzEUMs"
      },
      "outputs": [],
      "source": [
        "# Импортируем всё из модуля math\n",
        "from math import * "
      ]
    },
    {
      "cell_type": "markdown",
      "metadata": {
        "id": "dmRyHEI9EUMt"
      },
      "source": [
        "Представим, что мы проектируем садовый участок: использовали различные математические функции, а потом решили посчитать периметр круглого бассейна, зная его диаметр — 5 метров. Снова вспоминаем школьную программу: чтобы посчитать длину окружности, нужно диаметр умножить на число _пи_."
      ]
    },
    {
      "cell_type": "code",
      "execution_count": null,
      "metadata": {
        "id": "XD5_k8CXEUMt",
        "outputId": "5040e796-b2a1-4b01-a992-170b8b47e9e5"
      },
      "outputs": [
        {
          "name": "stdout",
          "output_type": "stream",
          "text": [
            "15.707963267948966\n"
          ]
        }
      ],
      "source": [
        "print(5*pi)"
      ]
    },
    {
      "cell_type": "markdown",
      "metadata": {
        "id": "Wzd9QvdnEUMt"
      },
      "source": [
        "Получили число с высокой точностью, так как в модуле `math` содержится переменная `pi` с большим количеством знаков после запятой (точки):"
      ]
    },
    {
      "cell_type": "code",
      "execution_count": null,
      "metadata": {
        "id": "-IO_kF7IEUMt",
        "outputId": "07c4045f-1e59-4648-87e7-0da8aa73765b"
      },
      "outputs": [
        {
          "name": "stdout",
          "output_type": "stream",
          "text": [
            "3.141592653589793\n"
          ]
        }
      ],
      "source": [
        "print(pi)"
      ]
    },
    {
      "cell_type": "markdown",
      "metadata": {
        "id": "SKuYIiB6EUMu"
      },
      "source": [
        "Зачем же тогда усложнять и использовать назавние модуля?\n",
        "\n",
        "Допустим, потом мы проводим еще какие-то вычисления, где не нужна такая точность. Мы создаем свою переменную `pi`:"
      ]
    },
    {
      "cell_type": "code",
      "execution_count": null,
      "metadata": {
        "id": "BoCfskzKEUMu"
      },
      "outputs": [],
      "source": [
        "pi = 3.14"
      ]
    },
    {
      "cell_type": "markdown",
      "metadata": {
        "id": "vaPe03kGEUMu"
      },
      "source": [
        "На самом деле, мы только что присвоили той же переменной `pi` новое значение. И старое значение из модуля `math` (если мы не делали `import math`) нам стало недоступно. Раз значение переменной `pi` изменилось, то и периметр того же бассейна получится, строго говоря, другим:"
      ]
    },
    {
      "cell_type": "code",
      "execution_count": null,
      "metadata": {
        "id": "r6KuGL0QEUMu",
        "outputId": "c431994c-7bbb-4f75-9000-c83b37c0422d"
      },
      "outputs": [
        {
          "name": "stdout",
          "output_type": "stream",
          "text": [
            "15.700000000000001\n"
          ]
        }
      ],
      "source": [
        "print(5*pi)"
      ]
    },
    {
      "cell_type": "markdown",
      "metadata": {
        "id": "ZnReGLS6EUMv"
      },
      "source": [
        "Если бы мы импортировали `math` и записывали бы через точку, значение `math.pi` не изменилось бы:"
      ]
    },
    {
      "cell_type": "code",
      "execution_count": null,
      "metadata": {
        "id": "w1nXqmiiEUMv",
        "outputId": "a6d9e925-6241-4eb9-d556-3aca586876da"
      },
      "outputs": [
        {
          "name": "stdout",
          "output_type": "stream",
          "text": [
            "3.14 3.141592653589793\n"
          ]
        }
      ],
      "source": [
        "import math\n",
        "pi = 3.14\n",
        "print(pi, math.pi)"
      ]
    },
    {
      "cell_type": "markdown",
      "metadata": {
        "id": "LupfeOCWEUMv"
      },
      "source": [
        "Аналогично может произойти и с функциями: вы можете написать свою функцию с тем же именем, что и в модуле. И в зависимости от того, что произойдет позже: определение вашей функции или импорт из модуля — компьютер будет понимать, что вызывать."
      ]
    },
    {
      "cell_type": "markdown",
      "metadata": {
        "id": "nF7F8X2IEUMv"
      },
      "source": [
        "# Импорт под псевдонимом\n",
        "\n",
        "Чтобы избежать таких сложностей, лучше писать название модуля. Но можно воспользоваться следующим упрощением: дать модулю псевдоним. Посмотрим на примере модуля `string`, предназначенного для работы со строками. Допустим, мы решили, что целиком слово `string` писать слишком долго, и хотим писать просто `s`. Посмотрим, как это можно сделать."
      ]
    },
    {
      "cell_type": "code",
      "execution_count": null,
      "metadata": {
        "id": "OBUja_geEUMv",
        "outputId": "05933234-9378-4a6b-c8c1-b40873556ac9"
      },
      "outputs": [
        {
          "name": "stdout",
          "output_type": "stream",
          "text": [
            "!\"#$%&'()*+,-./:;<=>?@[\\]^_`{|}~\n"
          ]
        }
      ],
      "source": [
        "import string as s    # Даем псевдоним модулю string\n",
        "print(s.punctuation)  # Печатаем строку со знаками препинания, хранящуюся в модуле "
      ]
    },
    {
      "cell_type": "markdown",
      "metadata": {
        "id": "IzB9YC1dEUMw"
      },
      "source": [
        "Теперь мы вместо `string.punctuation` будем писать `s.punctuation`, а `string.punctuation` не сработает."
      ]
    },
    {
      "cell_type": "code",
      "execution_count": null,
      "metadata": {
        "id": "ZypEiwekEUMw",
        "outputId": "35482cb6-d4e4-4ac9-e57a-ace034713d1e"
      },
      "outputs": [
        {
          "ename": "NameError",
          "evalue": "name 'string' is not defined",
          "output_type": "error",
          "traceback": [
            "\u001b[1;31m---------------------------------------------------------------------------\u001b[0m",
            "\u001b[1;31mNameError\u001b[0m                                 Traceback (most recent call last)",
            "\u001b[1;32m<ipython-input-16-0d98ef105330>\u001b[0m in \u001b[0;36m<module>\u001b[1;34m\u001b[0m\n\u001b[1;32m----> 1\u001b[1;33m \u001b[0mprint\u001b[0m\u001b[1;33m(\u001b[0m\u001b[0mstring\u001b[0m\u001b[1;33m.\u001b[0m\u001b[0mpunctuation\u001b[0m\u001b[1;33m)\u001b[0m\u001b[1;33m\u001b[0m\u001b[0m\n\u001b[0m",
            "\u001b[1;31mNameError\u001b[0m: name 'string' is not defined"
          ]
        }
      ],
      "source": [
        "print(string.punctuation)"
      ]
    },
    {
      "cell_type": "markdown",
      "metadata": {
        "id": "mJ4UcF26EUMw"
      },
      "source": [
        "Наконец, если вы совсем не готовы писать название модуля и даже слово `punctuation` кажется вам тоже слишком длинным, можно и ему дать псевдоним:"
      ]
    },
    {
      "cell_type": "code",
      "execution_count": null,
      "metadata": {
        "id": "pS-HCRnmEUMw"
      },
      "outputs": [],
      "source": [
        "from string import punctuation as punc"
      ]
    },
    {
      "cell_type": "code",
      "execution_count": null,
      "metadata": {
        "id": "F8DxWLCCEUMw",
        "outputId": "33c0f382-413d-45aa-deff-c1158640c7fa"
      },
      "outputs": [
        {
          "name": "stdout",
          "output_type": "stream",
          "text": [
            "!\"#$%&'()*+,-./:;<=>?@[\\]^_`{|}~\n"
          ]
        }
      ],
      "source": [
        "print(punc)"
      ]
    },
    {
      "cell_type": "markdown",
      "metadata": {
        "id": "-W_FEOdkEUMw"
      },
      "source": [
        "Хотя это уже перебор :)"
      ]
    }
  ],
  "metadata": {
    "kernelspec": {
      "display_name": "Python 3",
      "language": "python",
      "name": "python3"
    },
    "language_info": {
      "codemirror_mode": {
        "name": "ipython",
        "version": 3
      },
      "file_extension": ".py",
      "mimetype": "text/x-python",
      "name": "python",
      "nbconvert_exporter": "python",
      "pygments_lexer": "ipython3",
      "version": "3.6.5"
    },
    "colab": {
      "provenance": []
    }
  },
  "nbformat": 4,
  "nbformat_minor": 0
}