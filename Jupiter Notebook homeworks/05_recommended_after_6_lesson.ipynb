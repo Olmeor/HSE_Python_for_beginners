{
 "cells": [
  {
   "cell_type": "markdown",
   "id": "1d8f162e",
   "metadata": {},
   "source": [
    "#### Вопрос 1\n",
    "\n",
    "Магазин мебели загружает машину для доставки купленных товаров на дом покупателю. Чтобы машина не перевернулась, самые тяжёлые товары должны быть погружены первыми. Помогите экспедиторам, отсортировав список весов товаров по убыванию: чтобы в начале строки были веса самых тяжёлых товаров, а в конце — самых лёгких. \n",
    "\n",
    "#### ФОРМАТ ВВОДА \n",
    "\n",
    "Строка вещественных чисел, разделённых пробелами\n",
    "\n",
    "#### ФОРМАТ ВЫВОДА \n",
    "\n",
    "Строка вещественных чисел, разделённых пробелами\n",
    "\n",
    "**Для примера:**\n",
    "\n",
    "| Ввод | Результат |\n",
    "| :- | :-|\n",
    "| 2 4.5 6 10 3 | 10.0 6.0 4.5 3.0 2.0 |"
   ]
  },
  {
   "cell_type": "code",
   "execution_count": 1,
   "id": "95d7b9ca",
   "metadata": {},
   "outputs": [
    {
     "name": "stdout",
     "output_type": "stream",
     "text": [
      "2 4.5 6 10 3\n",
      "10.0 6.0 4.5 3.0 2.0\n"
     ]
    }
   ],
   "source": [
    "print(*sorted(map(float, input().split()), reverse=True))"
   ]
  },
  {
   "cell_type": "markdown",
   "id": "c0f01e92",
   "metadata": {},
   "source": [
    "#### Вопрос 2\n",
    "\n",
    "На студенческий хакатон зарегистрировалось множество команд, и организаторы хотят вывесить их перечень на сайт. Помогите им отсортировать список названий команд по алфавиту. Обратите внимание, что регистр букв в названии команд не должен учитываться.\n",
    "#### ФОРМАТ ВВОДА\n",
    "Строка из названий команд, разделённых символом “точка с запятой”.\n",
    "#### ФОРМАТ ВЫВОДА\n",
    "Строка из названий команд, разделённых символом “точка с запятой”.\n",
    "\n",
    "**Для примера:**\n",
    "\n",
    "| Ввод | Результат |\n",
    "| :- | :-|\n",
    "| Cowboy Bebop;contoso;Bulbasaurы;Весёлые мебельщики | Bulbasaurы;contoso;Cowboy Bebop;Весёлые мебельщики |"
   ]
  },
  {
   "cell_type": "code",
   "execution_count": 2,
   "id": "cbaec39a",
   "metadata": {},
   "outputs": [
    {
     "name": "stdout",
     "output_type": "stream",
     "text": [
      "Cowboy Bebop;contoso;Bulbasaurы;Весёлые мебельщики\n",
      "Bulbasaurы;contoso;Cowboy Bebop;Весёлые мебельщики\n"
     ]
    }
   ],
   "source": [
    "print(*sorted(input().split(';'), key=str.lower), sep=';')"
   ]
  },
  {
   "cell_type": "code",
   "execution_count": null,
   "id": "628128a6",
   "metadata": {},
   "outputs": [],
   "source": []
  }
 ],
 "metadata": {
  "kernelspec": {
   "display_name": "Python 3 (ipykernel)",
   "language": "python",
   "name": "python3"
  },
  "language_info": {
   "codemirror_mode": {
    "name": "ipython",
    "version": 3
   },
   "file_extension": ".py",
   "mimetype": "text/x-python",
   "name": "python",
   "nbconvert_exporter": "python",
   "pygments_lexer": "ipython3",
   "version": "3.9.13"
  }
 },
 "nbformat": 4,
 "nbformat_minor": 5
}
