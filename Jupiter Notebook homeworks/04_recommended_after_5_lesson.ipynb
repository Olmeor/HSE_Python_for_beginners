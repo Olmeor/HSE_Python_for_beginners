{
 "cells": [
  {
   "cell_type": "markdown",
   "id": "0d12ca4f",
   "metadata": {},
   "source": [
    "#### Вопрос 1\n",
    "Вася и Маша играют в игру: Вася пишет какое-то слово не меньше 6 букв, а затем Маша начинает составлять слова из букв Васиного слова. Составьте программу, которая проверяет для какого-либо слова, может ли Маша использовать его в игре. Буквы могут повторяться (например, если Вася написал \"кошмар\", Маша может написать \"мама\" — и \"м\", и \"а\" есть в исходном слове)\n",
    "\n",
    "#### ФОРМАТ ВВОДА\n",
    "\n",
    "На первой строке — слово Васи со строчной буквы;\n",
    "на второй — слово от Маши.\n",
    "\n",
    "#### ФОРМАТ ВЫВОДА\n",
    "\n",
    "Если Машино слово можно использовать: \"ДА\".\n",
    "Если слово нельзя использовать: \"НЕТ\".\n",
    "\n",
    "**Для примера:**\n",
    "\n",
    "| Ввод | Результат ||\n",
    "| :- | :-||\n",
    "| анаграмма | ДА |\n",
    "| гамма |\n",
    "| лист | НЕТ |\n",
    "| рамка |"
   ]
  },
  {
   "cell_type": "code",
   "execution_count": 1,
   "id": "a7e94485",
   "metadata": {},
   "outputs": [
    {
     "name": "stdout",
     "output_type": "stream",
     "text": [
      "анаграмма\n",
      "гамма\n",
      "ДА\n"
     ]
    }
   ],
   "source": [
    "word_v, word_m = set(input()), set(input())\n",
    "\n",
    "print('ДА' if word_m & word_v == word_m else 'НЕТ')"
   ]
  },
  {
   "cell_type": "markdown",
   "id": "0f5e145d",
   "metadata": {},
   "source": [
    "#### Вопрос 2\n",
    "Леонид печет торты и ведет профессиональный аккаунт в Instagram. Он хочет собрать статистику, сколько уникальных пользователей оставили комментарии к его постам на прошлой неделе. Кроме того, у Леонида есть список спам-аккаунтов, и если комментарий оставлен с такого аккаунта, то Леонид его не учитывает. Напишите программу, которая поможет Леониду.\n",
    "\n",
    "#### ФОРМАТ ВВОДА\n",
    "Сначала вводятся аккаунты, с которых Леониду написали комментарии. Каждый аккаунт вводится на новой строке, когда комментарии заканчиваются, вводится слово END. Далее вводятся спам-аккаунты, среди них могут быть те, которые не оставляли на прошлой неделе комментариев. Каждый аккаунт вводится на новой строке, когда комментарии заканчиваются, вводится слово END. \n",
    "\n",
    "#### ФОРМАТ ВЫВОДА \n",
    "Целое число — количество уникальных не спам-аккаунтов, которые написали комментарии Леониду.\n",
    "\n",
    "**Для примера:**\n",
    "\n",
    "| Ввод | Результат ||\n",
    "| :- | :-||\n",
    "| @Ebonit | 8 |\n",
    "| @Faun |\n",
    "| @Russ |\n",
    "| @Nnell |\n",
    "| @Liamo |\n",
    "| @Elanaiah |\n",
    "| @Friella |\n",
    "| @Floran |\n",
    "| END |\n",
    "| @Xiuaaaaa |\n",
    "| @Ersh |\n",
    "| END |"
   ]
  },
  {
   "cell_type": "code",
   "execution_count": 2,
   "id": "e5aae2f3",
   "metadata": {},
   "outputs": [
    {
     "name": "stdout",
     "output_type": "stream",
     "text": [
      "@Ebonit\n",
      "@Faun\n",
      "@Russ\t\n",
      "@Nnell\n",
      "@Liamo\t\n",
      "@Elanaiah\t\n",
      "@Friella\n",
      "@Floran\n",
      "END\n",
      "@Xiuaaaaa\t\n",
      "@Ersh\n",
      "END\n",
      "8\n"
     ]
    }
   ],
   "source": [
    "trusted_acc, blocked_acc = [], []\n",
    "\n",
    "while True:\n",
    "    account = input()\n",
    "    if account != 'END':\n",
    "        trusted_acc.append(account)\n",
    "    else:\n",
    "        break\n",
    "    \n",
    "while True:\n",
    "    account = input()\n",
    "    if account != 'END':\n",
    "        blocked_acc.append(account)\n",
    "    else:\n",
    "        break\n",
    "    \n",
    "print(len(set(trusted_acc) - set(blocked_acc)))\n"
   ]
  },
  {
   "cell_type": "code",
   "execution_count": null,
   "id": "36ea9fb6",
   "metadata": {},
   "outputs": [],
   "source": []
  }
 ],
 "metadata": {
  "kernelspec": {
   "display_name": "Python 3 (ipykernel)",
   "language": "python",
   "name": "python3"
  },
  "language_info": {
   "codemirror_mode": {
    "name": "ipython",
    "version": 3
   },
   "file_extension": ".py",
   "mimetype": "text/x-python",
   "name": "python",
   "nbconvert_exporter": "python",
   "pygments_lexer": "ipython3",
   "version": "3.9.13"
  }
 },
 "nbformat": 4,
 "nbformat_minor": 5
}
